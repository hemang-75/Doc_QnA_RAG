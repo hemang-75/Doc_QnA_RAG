{
 "cells": [
  {
   "cell_type": "markdown",
   "id": "8a447172-fce9-4baf-ad6a-c3f5581af6b8",
   "metadata": {},
   "source": [
    "### Building a RAG based Question Answer Tool"
   ]
  },
  {
   "cell_type": "markdown",
   "id": "13a98c46-878a-420f-9fb8-e0e82d2d306c",
   "metadata": {},
   "source": [
    "- The Task is to build a RAG pipeline to do QnA on a certain set of Documents. Here are the links for the Documents:\n",
    "\n",
    "    Withdrawal of Legal Tender Character of ₹ 500 and ₹ 1,000: RBI Statement\n",
    "    \n",
    "    https://www.rbi.org.in/Scripts/BS_PressReleaseDisplay.aspx?prid=38568\n",
    "    \n",
    "    TBills\n",
    "    \n",
    "    https://www.rbi.org.in/Scripts/BS_PressReleaseDisplay.aspx?prid=38747\n",
    "    https://www.rbi.org.in/Scripts/BS_PressReleaseDisplay.aspx?prid=38747\n",
    "    \n",
    "    minutes of monetary policy 2024\n",
    "    \n",
    "    https://www.rbi.org.in/Scripts/BS_PressReleaseDisplay.aspx?prid=57366\n",
    "          \n",
    "    monetary penalty\n",
    "    \n",
    "    https://www.rbi.org.in/Scripts/BS_PressReleaseDisplay.aspx?prid=57364\n",
    "    \n",
    "    VRR\n",
    "    \n",
    "    https://www.rbi.org.in/Scripts/BS_PressReleaseDisplay.aspx?prid=57550\n",
    "    https://www.rbi.org.in/Scripts/BS_PressReleaseDisplay.aspx?prid=55274\n",
    "     \n",
    "    Minutes of meeting 2023\n",
    "    \n",
    "    https://www.rbi.org.in/Scripts/BS_PressReleaseDisplay.aspx?prid=56982\n",
    "    \n",
    "    https://www.rbi.org.in/Scripts/BS_PressReleaseDisplay.aspx?prid=56606\n",
    "    \n",
    "    https://www.rbi.org.in/Scripts/BS_PressReleaseDisplay.aspx?prid=56252\n",
    "    \n",
    "    https://www.rbi.org.in/Scripts/BS_PressReleaseDisplay.aspx?prid=55899\n",
    "    \n",
    "    https://www.rbi.org.in/Scripts/BS_PressReleaseDisplay.aspx?prid=55538\n",
    "    \n",
    "    https://www.rbi.org.in/Scripts/BS_PressReleaseDisplay.aspx?prid=55267\n",
    "    \n",
    "     \n",
    "    \n",
    "    Full Auction Result 2016\n",
    "    \n",
    "    https://www.rbi.org.in/Scripts/BS_PressReleaseDisplay.aspx?prid=38736\n",
    "\n",
    "\n",
    "\n",
    "- By looking at the documents, i found that there are multiple monetary policy meetings of 2023 ,2024 and other press release documents. Since there are similar documents for different time periods , it is important to store the time period in the chunks so that one can retrieve the correct chunk for the particular time period.\n",
    "- In order to store the time period in the chunks, i am extracting the date of the document from the document text and storing it as month-year format since monetary meetings happens once in 3 months and easy to apply filter on month-year rather than on exact date.I am storing this month-year in the metadata along with page number and file name so that i can cite the document name and page number in the output response.\n",
    "- I am using OpenAI API for using the LLM model and Chroma for vector database.\n",
    "- I have used Langchain framework for defining different LLM chains and building the RAG pipeline\n",
    "- I have created a chatbot through which user can easily do QnA about these documents.\n",
    "- I have downloaded and stored all the documents in the 'data' folder."
   ]
  },
  {
   "cell_type": "markdown",
   "id": "273eefe6-cb66-4113-ba24-d025eecbf39b",
   "metadata": {},
   "source": [
    "#### 1) Importing all the libraries"
   ]
  },
  {
   "cell_type": "code",
   "execution_count": 1,
   "id": "874e847a-d4bf-40a7-a923-67692e83ed32",
   "metadata": {},
   "outputs": [],
   "source": [
    "from pprint import pprint\n",
    "from datetime import datetime\n",
    "import os\n",
    "import getpass\n",
    "import ast\n",
    "import uuid\n",
    "\n",
    "from langchain.embeddings import OpenAIEmbeddings\n",
    "from langchain.vectorstores import Chroma\n",
    "from langchain.document_loaders import PyPDFLoader\n",
    "from tqdm import tqdm\n",
    "from langchain.text_splitter import RecursiveCharacterTextSplitter\n",
    "from langchain.chat_models import ChatOpenAI\n",
    "\n",
    "# Prompts\n",
    "from langchain.prompts import (\n",
    "    ChatPromptTemplate,\n",
    "    HumanMessagePromptTemplate,\n",
    "    PromptTemplate,\n",
    "    SystemMessagePromptTemplate,\n",
    ")\n",
    "\n",
    "# Conversational memory\n",
    "from langchain.memory import ConversationBufferMemory\n",
    "\n",
    "# LLM wrapper\n",
    "from langchain.chains import LLMChain\n",
    "from langchain.chains.combine_documents.stuff import StuffDocumentsChain\n",
    "from langchain.chains import ConversationalRetrievalChain\n",
    "from langchain.chains.qa_with_sources import load_qa_with_sources_chain\n",
    "\n",
    "from langchain.schema.messages import AIMessage, HumanMessage\n",
    "\n",
    "from langchain.schema import BaseChatMessageHistory\n",
    "from langchain.schema.messages import (\n",
    "    BaseMessage,\n",
    "    messages_from_dict,\n",
    "    messages_to_dict,\n",
    ")\n",
    "\n"
   ]
  },
  {
   "cell_type": "markdown",
   "id": "200d168c-5656-4071-9645-06a7a651ff83",
   "metadata": {},
   "source": [
    "#### 2) Adding OpenAI API KEY"
   ]
  },
  {
   "cell_type": "code",
   "execution_count": 2,
   "id": "3855b683-f073-405a-a4f9-f885a9416b20",
   "metadata": {
    "tags": []
   },
   "outputs": [
    {
     "name": "stdin",
     "output_type": "stream",
     "text": [
      "OpenAI API Key: ········\n"
     ]
    }
   ],
   "source": [
    "os.environ[\"OPENAI_API_KEY\"] = getpass.getpass(\"OpenAI API Key:\")"
   ]
  },
  {
   "cell_type": "markdown",
   "id": "c97f47ed-a484-48b3-96e3-ceb9bee451d7",
   "metadata": {},
   "source": [
    "#### 3) Defining the LLM models"
   ]
  },
  {
   "cell_type": "code",
   "execution_count": 3,
   "id": "2e5c4a28-a76f-4726-a38e-503821b31012",
   "metadata": {
    "tags": []
   },
   "outputs": [
    {
     "name": "stderr",
     "output_type": "stream",
     "text": [
      "/opt/anaconda3/envs/genai_dev/lib/python3.11/site-packages/langchain_core/_api/deprecation.py:117: LangChainDeprecationWarning: The class `langchain_community.embeddings.openai.OpenAIEmbeddings` was deprecated in langchain-community 0.0.9 and will be removed in 0.2.0. An updated version of the class exists in the langchain-openai package and should be used instead. To use it run `pip install -U langchain-openai` and import as `from langchain_openai import OpenAIEmbeddings`.\n",
      "  warn_deprecated(\n"
     ]
    }
   ],
   "source": [
    "embeddings = OpenAIEmbeddings(model=\"text-embedding-3-large\")"
   ]
  },
  {
   "cell_type": "code",
   "execution_count": 4,
   "id": "796d72e7-d7dc-4488-a6c7-99f5bcbb6e82",
   "metadata": {
    "tags": []
   },
   "outputs": [
    {
     "name": "stderr",
     "output_type": "stream",
     "text": [
      "/opt/anaconda3/envs/genai_dev/lib/python3.11/site-packages/langchain_core/_api/deprecation.py:117: LangChainDeprecationWarning: The class `langchain_community.chat_models.openai.ChatOpenAI` was deprecated in langchain-community 0.0.10 and will be removed in 0.2.0. An updated version of the class exists in the langchain-openai package and should be used instead. To use it run `pip install -U langchain-openai` and import as `from langchain_openai import ChatOpenAI`.\n",
      "  warn_deprecated(\n"
     ]
    }
   ],
   "source": [
    "llm_gpt35 = ChatOpenAI(model_name='gpt-3.5-turbo-0125', temperature=0)"
   ]
  },
  {
   "cell_type": "code",
   "execution_count": 5,
   "id": "4943ff02-fd24-49f9-a5aa-6b4eef1c3a03",
   "metadata": {
    "tags": []
   },
   "outputs": [],
   "source": [
    "llm_gpt4 = ChatOpenAI(model_name='gpt-4-0125-preview', temperature=0)"
   ]
  },
  {
   "cell_type": "markdown",
   "id": "e13dc9c8-0e8b-44e7-9dab-3c3f51f4eb25",
   "metadata": {},
   "source": [
    "#### 4) Creating custom LLM chains for different purposes"
   ]
  },
  {
   "cell_type": "code",
   "execution_count": 6,
   "id": "5d9b15cb-d706-4124-8745-4adf15be21de",
   "metadata": {
    "tags": []
   },
   "outputs": [],
   "source": [
    "### This will be used to extract the month & year from the date mentioned in the document as this will be stored in the metadata\n",
    "\n",
    "date_extraction_prompt_template = \"\"\"\n",
    "                     You have to extract the month and year from the date mentioned in the context. Output the result in this format : month-year\n",
    "                     e.g. : if date mentioned is 22/11/2022 then output should be November-2022\n",
    "                     if date mentioned is 15th May 2020, then output should be May-2020.\n",
    "                     Output None if you cannot find month or year.\n",
    "                     ```\\n\n",
    "                     {context}\n",
    "                     \\n```\n",
    "                     \"\"\"\n",
    "\n",
    "date_extraction_prompt = PromptTemplate(template=date_extraction_prompt_template,input_variables = [\"context\"])"
   ]
  },
  {
   "cell_type": "code",
   "execution_count": 7,
   "id": "db3f40d5-a29c-4f92-9a0d-d0a7a541db03",
   "metadata": {
    "tags": []
   },
   "outputs": [],
   "source": [
    "### We are using StuffDocuments Chain to extract the date from the input document\n",
    "\n",
    "llm_chain = LLMChain(llm=llm_gpt35, prompt=date_extraction_prompt)\n",
    "date_extraction_chain = StuffDocumentsChain(\n",
    "    llm_chain=llm_chain, document_variable_name=\"context\"\n",
    ")\n"
   ]
  },
  {
   "cell_type": "markdown",
   "id": "bec060c9-47a3-4447-839a-1e1d080d74af",
   "metadata": {},
   "source": [
    "#### 5) Loading and processing the data"
   ]
  },
  {
   "cell_type": "code",
   "execution_count": 8,
   "id": "de0d2df0-935f-4207-8efb-bf1f63d1e4e1",
   "metadata": {
    "tags": []
   },
   "outputs": [],
   "source": [
    "pdf_folder_path = './data'\n",
    "loaders = []\n",
    "for file in os.listdir(pdf_folder_path):\n",
    "    if '.pdf' in file:\n",
    "        loaders.append(PyPDFLoader(os.path.join(pdf_folder_path, file)))"
   ]
  },
  {
   "cell_type": "code",
   "execution_count": 9,
   "id": "54193a5a-dcb3-4b00-91ef-b91e239c8693",
   "metadata": {},
   "outputs": [
    {
     "data": {
      "text/plain": [
       "['PR1769MPCF562EB05339B404F8DC23D07725EF354.pdf',\n",
       " 'PR1531MPC028F84F6CF55474FAD12AF5AB0271F8C.pdf',\n",
       " 'PR210094BA4333A49943578DC244BF2D975D76.pdf',\n",
       " 'PR88MINUTESOFMPC507ABE3E36B346B6A843FCDCCD9F6207.pdf',\n",
       " 'PR136980056AFD85C8475286C0BD6B6F02F48C (1).pdf',\n",
       " 'PR449MINUTESMPC0878FC98204D417C85943F174D1A1A7A.pdf',\n",
       " 'PR1190C026F89B382C47ABBC3D2E4B1A6E0DA1.pdf',\n",
       " 'PR136980056AFD85C8475286C0BD6B6F02F48C.pdf',\n",
       " 'PR1155MINUTESMPCA747B17FC38A4EE593AC2CAF6A97C0E2.pdf',\n",
       " 'PR802MINUTESMPC82557115808D41C489D15857CA3D1E67.pdf',\n",
       " 'PR1916MINUTESMPCEC644F0858CB44DA8948B3C027C81C5D.pdf',\n",
       " 'PR1914ADINATH25D3CEFC29704A9289D6D7BDA04708E5.pdf',\n",
       " '.ipynb_checkpoints',\n",
       " 'PR1358EB308DAB38B24F4EB2725FD44EA7237B.pdf',\n",
       " 'PR1776533F25F2E77D4C91A1F758C7897D2E00.pdf']"
      ]
     },
     "execution_count": 9,
     "metadata": {},
     "output_type": "execute_result"
    }
   ],
   "source": [
    "os.listdir(pdf_folder_path)"
   ]
  },
  {
   "cell_type": "code",
   "execution_count": 10,
   "id": "080c8df5-4046-410d-9c94-15ecc6ab908c",
   "metadata": {
    "tags": []
   },
   "outputs": [
    {
     "name": "stderr",
     "output_type": "stream",
     "text": [
      "  0%|                                                    | 0/15 [00:00<?, ?it/s]/opt/anaconda3/envs/genai_dev/lib/python3.11/site-packages/langchain_core/_api/deprecation.py:117: LangChainDeprecationWarning: The function `run` was deprecated in LangChain 0.1.0 and will be removed in 0.2.0. Use invoke instead.\n",
      "  warn_deprecated(\n",
      "  7%|██▉                                         | 1/15 [00:01<00:20,  1.47s/it]"
     ]
    },
    {
     "name": "stdout",
     "output_type": "stream",
     "text": [
      "Retrieved Month & year from the document : ./data/PR1769MPCF562EB05339B404F8DC23D07725EF354.pdf are February-2023\n"
     ]
    },
    {
     "name": "stderr",
     "output_type": "stream",
     "text": [
      " 13%|█████▊                                      | 2/15 [00:02<00:16,  1.26s/it]"
     ]
    },
    {
     "name": "stdout",
     "output_type": "stream",
     "text": [
      "Retrieved Month & year from the document : ./data/PR1531MPC028F84F6CF55474FAD12AF5AB0271F8C.pdf are December-2023\n"
     ]
    },
    {
     "name": "stderr",
     "output_type": "stream",
     "text": [
      " 20%|████████▊                                   | 3/15 [00:03<00:12,  1.03s/it]"
     ]
    },
    {
     "name": "stdout",
     "output_type": "stream",
     "text": [
      "Retrieved Month & year from the document : ./data/PR210094BA4333A49943578DC244BF2D975D76.pdf are March-2024\n"
     ]
    },
    {
     "name": "stderr",
     "output_type": "stream",
     "text": [
      " 27%|███████████▋                                | 4/15 [00:04<00:11,  1.09s/it]"
     ]
    },
    {
     "name": "stdout",
     "output_type": "stream",
     "text": [
      "Retrieved Month & year from the document : ./data/PR88MINUTESOFMPC507ABE3E36B346B6A843FCDCCD9F6207.pdf are April-2023\n"
     ]
    },
    {
     "name": "stderr",
     "output_type": "stream",
     "text": [
      " 33%|██████████████▋                             | 5/15 [00:05<00:09,  1.08it/s]"
     ]
    },
    {
     "name": "stdout",
     "output_type": "stream",
     "text": [
      "Retrieved Month & year from the document : ./data/PR136980056AFD85C8475286C0BD6B6F02F48C (1).pdf are November-2016\n"
     ]
    },
    {
     "name": "stderr",
     "output_type": "stream",
     "text": [
      " 40%|█████████████████▌                          | 6/15 [00:06<00:09,  1.01s/it]"
     ]
    },
    {
     "name": "stdout",
     "output_type": "stream",
     "text": [
      "Retrieved Month & year from the document : ./data/PR449MINUTESMPC0878FC98204D417C85943F174D1A1A7A.pdf are June-2023\n"
     ]
    },
    {
     "name": "stderr",
     "output_type": "stream",
     "text": [
      " 47%|████████████████████▌                       | 7/15 [00:07<00:07,  1.05it/s]"
     ]
    },
    {
     "name": "stdout",
     "output_type": "stream",
     "text": [
      "Retrieved Month & year from the document : ./data/PR1190C026F89B382C47ABBC3D2E4B1A6E0DA1.pdf are November-2016\n"
     ]
    },
    {
     "name": "stderr",
     "output_type": "stream",
     "text": [
      " 53%|███████████████████████▍                    | 8/15 [00:07<00:06,  1.16it/s]"
     ]
    },
    {
     "name": "stdout",
     "output_type": "stream",
     "text": [
      "Retrieved Month & year from the document : ./data/PR136980056AFD85C8475286C0BD6B6F02F48C.pdf are November-2016\n"
     ]
    },
    {
     "name": "stderr",
     "output_type": "stream",
     "text": [
      " 60%|██████████████████████████▍                 | 9/15 [00:08<00:05,  1.11it/s]"
     ]
    },
    {
     "name": "stdout",
     "output_type": "stream",
     "text": [
      "Retrieved Month & year from the document : ./data/PR1155MINUTESMPCA747B17FC38A4EE593AC2CAF6A97C0E2.pdf are October-2023\n"
     ]
    },
    {
     "name": "stderr",
     "output_type": "stream",
     "text": [
      " 67%|████████████████████████████▋              | 10/15 [00:09<00:04,  1.13it/s]"
     ]
    },
    {
     "name": "stdout",
     "output_type": "stream",
     "text": [
      "Retrieved Month & year from the document : ./data/PR802MINUTESMPC82557115808D41C489D15857CA3D1E67.pdf are August-2023\n"
     ]
    },
    {
     "name": "stderr",
     "output_type": "stream",
     "text": [
      " 73%|███████████████████████████████▌           | 11/15 [00:10<00:03,  1.06it/s]"
     ]
    },
    {
     "name": "stdout",
     "output_type": "stream",
     "text": [
      "Retrieved Month & year from the document : ./data/PR1916MINUTESMPCEC644F0858CB44DA8948B3C027C81C5D.pdf are February-2024\n"
     ]
    },
    {
     "name": "stderr",
     "output_type": "stream",
     "text": [
      " 80%|██████████████████████████████████▍        | 12/15 [00:11<00:02,  1.15it/s]"
     ]
    },
    {
     "name": "stdout",
     "output_type": "stream",
     "text": [
      "Retrieved Month & year from the document : ./data/PR1914ADINATH25D3CEFC29704A9289D6D7BDA04708E5.pdf are February-2024\n"
     ]
    },
    {
     "name": "stderr",
     "output_type": "stream",
     "text": [
      " 93%|████████████████████████████████████████▏  | 14/15 [00:12<00:00,  1.41it/s]"
     ]
    },
    {
     "name": "stdout",
     "output_type": "stream",
     "text": [
      "Retrieved Month & year from the document : ./data/PR1358EB308DAB38B24F4EB2725FD44EA7237B.pdf are November-2016\n"
     ]
    },
    {
     "name": "stderr",
     "output_type": "stream",
     "text": [
      "100%|███████████████████████████████████████████| 15/15 [00:14<00:00,  1.04it/s]"
     ]
    },
    {
     "name": "stdout",
     "output_type": "stream",
     "text": [
      "Retrieved Month & year from the document : ./data/PR1776533F25F2E77D4C91A1F758C7897D2E00.pdf are February-2023\n"
     ]
    },
    {
     "name": "stderr",
     "output_type": "stream",
     "text": [
      "\n"
     ]
    }
   ],
   "source": [
    "### Extracting month-year from each document and storing it in metadata along with correct page number and file name\n",
    "\n",
    "all_documents = []\n",
    "for file_name in tqdm(os.listdir(pdf_folder_path)):\n",
    "    try:\n",
    "        loader = PyPDFLoader(os.path.join(pdf_folder_path, file_name))\n",
    "        docs = loader.load()\n",
    "        month_year = date_extraction_chain.run(docs[0:1])\n",
    "        print('Retrieved Month & year from the document : {} are {}'.format(docs[0].metadata['source'],month_year))\n",
    "        for doc in docs:\n",
    "            doc.metadata['month_year'] = month_year\n",
    "            doc.metadata['page'] += 1\n",
    "            doc.metadata['file_name'] = str(file_name)\n",
    "        all_documents.extend(docs)\n",
    "    except:\n",
    "        pass"
   ]
  },
  {
   "cell_type": "code",
   "execution_count": 11,
   "id": "fa839ed6-1f51-42bc-b008-6621bc79a829",
   "metadata": {},
   "outputs": [
    {
     "data": {
      "text/plain": [
       "97"
      ]
     },
     "execution_count": 11,
     "metadata": {},
     "output_type": "execute_result"
    }
   ],
   "source": [
    "len(all_documents)"
   ]
  },
  {
   "cell_type": "code",
   "execution_count": 12,
   "id": "36e0101a-3c24-4975-aa5a-7fc46e16baca",
   "metadata": {},
   "outputs": [
    {
     "data": {
      "text/plain": [
       "({'source': './data/PR1769MPCF562EB05339B404F8DC23D07725EF354.pdf',\n",
       "  'page': 1,\n",
       "  'month_year': 'February-2023',\n",
       "  'file_name': 'PR1769MPCF562EB05339B404F8DC23D07725EF354.pdf'},\n",
       " {'source': './data/PR1769MPCF562EB05339B404F8DC23D07725EF354.pdf',\n",
       "  'page': 2,\n",
       "  'month_year': 'February-2023',\n",
       "  'file_name': 'PR1769MPCF562EB05339B404F8DC23D07725EF354.pdf'})"
      ]
     },
     "execution_count": 12,
     "metadata": {},
     "output_type": "execute_result"
    }
   ],
   "source": [
    "all_documents[0].metadata,all_documents[1].metadata"
   ]
  },
  {
   "cell_type": "markdown",
   "id": "41b455d7-ea91-42e1-bb2c-8e787ca8cc0c",
   "metadata": {},
   "source": [
    "##### Splitting the documents in chunks\n",
    "- I am using RecursiveCharacterTextSplitter to split the documents into chunks of chunk size of 2500 with a chunk overlap of 250.\n",
    "- The reason to use RecursiveCharacterTextSplitter over other TextSplitter is that this splitter splits the paragraph, sentences and words in a better way and is recommended for generic text. You can find more info about it here : https://python.langchain.com/docs/modules/data_connection/document_transformers/recursive_text_splitter/\n",
    "- I have kept chunk size of 2500 characters as i am using a larger embedding model and i tried with different sizes to make sure i can get the tables in the documents in one chunk and i find 2500 to be optimal for that"
   ]
  },
  {
   "cell_type": "code",
   "execution_count": 13,
   "id": "4b7c0ca7-f104-4bdd-892c-0ea2caaf352d",
   "metadata": {
    "tags": []
   },
   "outputs": [],
   "source": [
    "### Define the Text Splitter \n",
    "from langchain.text_splitter import RecursiveCharacterTextSplitter\n",
    "text_splitter = RecursiveCharacterTextSplitter(\n",
    "    chunk_size = 2500,\n",
    "    chunk_overlap = 250\n",
    ")\n"
   ]
  },
  {
   "cell_type": "code",
   "execution_count": 14,
   "id": "76592bb5-a058-4265-aa45-b95c808ed46e",
   "metadata": {},
   "outputs": [
    {
     "data": {
      "text/plain": [
       "178"
      ]
     },
     "execution_count": 14,
     "metadata": {},
     "output_type": "execute_result"
    }
   ],
   "source": [
    "splits = text_splitter.split_documents(all_documents)\n",
    "\n",
    "len(splits)"
   ]
  },
  {
   "cell_type": "code",
   "execution_count": 15,
   "id": "a977d64e-1823-4467-af49-6046b1c94772",
   "metadata": {},
   "outputs": [
    {
     "data": {
      "text/plain": [
       "('February  22, 2023  \\n                                                                         \\nMinutes of the Monetary Policy Committee Meeting, February 6- 8, 2023 \\n[Under Section 45ZL of the Reserve Bank of India Act, 1934]  \\n \\n     The forty first meeting of the Monetary Policy Committee (MPC), constituted under \\nsection 45ZB of the Reserve Bank of India Act, 1934, was held during February 6- 8, \\n2023.  \\n2. The meeting was attended by all the members –  Dr. Shashanka Bhide, Honorary \\nSenior Advisor, National Council of Applied Economic Research, Delhi; Dr. Ashima \\nGoyal, Emeritus Professor, Indira Gandhi Institute of Development Research, Mumbai; \\nProf. Jayanth R. Varma, Professor, Indian Institute of Management, Ahmedabad;           \\nDr. Rajiv Ranjan, Executive Director (the  officer of the Reserve Bank nominated by the \\nCentral Board under Section 45ZB(2)(c) of the Reserve Bank of India Act, 1934);            \\nDr. Michael Debabrata Patra, Deputy Governor in charge of monetary policy –  and was \\nchaired by Shri Shaktikanta Das, Governor.  \\n3. According to Section 45ZL of the Reserve Bank of India Act, 1934, the Reserve \\nBank shall publish, on the fourteenth day after every meeting of the Monetary Policy \\nCommittee, the minutes of the proceedings of the meeting which shall include the \\nfollowing, namely:  \\n(a) the resolution adopted at the meeting of the Monetary Policy Committee;  \\n(b) the vote of each member of the Monetary Policy Committee, ascribed to such \\nmember, on the resolution adopted in the said meeting; and  \\n(c) the statement of each member of t he Monetary Policy Committee under sub-\\nsection (11) of section 45ZI on the resolution adopted in the said meeting.  \\n4. The MPC reviewed  the surveys conducted by the Reserve Bank to gauge \\nconsumer confidence, households’ inflation expectations, corporate sector  performance, \\ncredit conditions, the outlook for the industrial, services and infrastructure sectors, and \\nthe projections of professional forecasters. The MPC also reviewed in detail the staff’s \\nmacroeconomic projections, and alternative scenarios around v arious risks to the \\noutlook. Drawing on the above and after extensive discussions on the stance of monetary \\npolicy, the MPC adopted the resolution that is set out below.  \\nResolution \\n5. On the basis of an assessment of the current and evolving macroeconomic',\n",
       " {'source': './data/PR1769MPCF562EB05339B404F8DC23D07725EF354.pdf',\n",
       "  'page': 1,\n",
       "  'month_year': 'February-2023',\n",
       "  'file_name': 'PR1769MPCF562EB05339B404F8DC23D07725EF354.pdf'})"
      ]
     },
     "execution_count": 15,
     "metadata": {},
     "output_type": "execute_result"
    }
   ],
   "source": [
    "splits[0].page_content, splits[0].metadata"
   ]
  },
  {
   "cell_type": "code",
   "execution_count": 18,
   "id": "2a6ac74d-51a1-4c3e-86f6-4ef1a979a692",
   "metadata": {},
   "outputs": [],
   "source": [
    "### To remove duplicate chunks or documents if any before storing in the vector database\n",
    "\n",
    "### Create a list of unique ids for each document based on the content\n",
    "ids = [str(uuid.uuid5(uuid.NAMESPACE_DNS, split.page_content)) for split in splits]\n",
    "unique_ids = list(set(ids))\n",
    "\n",
    "### Ensure that only docs that correspond to unique ids are kept and that only one of the duplicate ids is kept\n",
    "seen_ids = set()\n",
    "unique_splits = [split for split, id in zip(splits, ids) if id not in seen_ids and (seen_ids.add(id) or True)]"
   ]
  },
  {
   "cell_type": "code",
   "execution_count": 19,
   "id": "b2e5e918-be95-44e7-bd8d-7deb745eb4d5",
   "metadata": {},
   "outputs": [
    {
     "data": {
      "text/plain": [
       "177"
      ]
     },
     "execution_count": 19,
     "metadata": {},
     "output_type": "execute_result"
    }
   ],
   "source": [
    "len(unique_splits)"
   ]
  },
  {
   "cell_type": "markdown",
   "id": "13f8418c-6990-4c6e-bf9a-3e33d4f22c81",
   "metadata": {},
   "source": [
    "- I am storing the page number and document name in the end of the page content so that when i perform retrieval i can get the document name and page number information in the retrieved chunks"
   ]
  },
  {
   "cell_type": "code",
   "execution_count": 20,
   "id": "5beca10a-f244-430c-a594-683054a4c192",
   "metadata": {},
   "outputs": [],
   "source": [
    "for split in unique_splits:\n",
    "    page_num = int(split.metadata[\"page\"])\n",
    "    doc_name = str(split.metadata[\"file_name\"])\n",
    "    split.page_content += \"\\ndocument name is \" + str(doc_name)\n",
    "    split.page_content += \"\\npage \" + str(page_num)"
   ]
  },
  {
   "cell_type": "code",
   "execution_count": 21,
   "id": "823e7c61-00a0-4761-a623-3441d8168e2c",
   "metadata": {},
   "outputs": [
    {
     "name": "stdout",
     "output_type": "stream",
     "text": [
      "February  22, 2023  \n",
      "                                                                         \n",
      "Minutes of the Monetary Policy Committee Meeting, February 6- 8, 2023 \n",
      "[Under Section 45ZL of the Reserve Bank of India Act, 1934]  \n",
      " \n",
      "     The forty first meeting of the Monetary Policy Committee (MPC), constituted under \n",
      "section 45ZB of the Reserve Bank of India Act, 1934, was held during February 6- 8, \n",
      "2023.  \n",
      "2. The meeting was attended by all the members –  Dr. Shashanka Bhide, Honorary \n",
      "Senior Advisor, National Council of Applied Economic Research, Delhi; Dr. Ashima \n",
      "Goyal, Emeritus Professor, Indira Gandhi Institute of Development Research, Mumbai; \n",
      "Prof. Jayanth R. Varma, Professor, Indian Institute of Management, Ahmedabad;           \n",
      "Dr. Rajiv Ranjan, Executive Director (the  officer of the Reserve Bank nominated by the \n",
      "Central Board under Section 45ZB(2)(c) of the Reserve Bank of India Act, 1934);            \n",
      "Dr. Michael Debabrata Patra, Deputy Governor in charge of monetary policy –  and was \n",
      "chaired by Shri Shaktikanta Das, Governor.  \n",
      "3. According to Section 45ZL of the Reserve Bank of India Act, 1934, the Reserve \n",
      "Bank shall publish, on the fourteenth day after every meeting of the Monetary Policy \n",
      "Committee, the minutes of the proceedings of the meeting which shall include the \n",
      "following, namely:  \n",
      "(a) the resolution adopted at the meeting of the Monetary Policy Committee;  \n",
      "(b) the vote of each member of the Monetary Policy Committee, ascribed to such \n",
      "member, on the resolution adopted in the said meeting; and  \n",
      "(c) the statement of each member of t he Monetary Policy Committee under sub-\n",
      "section (11) of section 45ZI on the resolution adopted in the said meeting.  \n",
      "4. The MPC reviewed  the surveys conducted by the Reserve Bank to gauge \n",
      "consumer confidence, households’ inflation expectations, corporate sector  performance, \n",
      "credit conditions, the outlook for the industrial, services and infrastructure sectors, and \n",
      "the projections of professional forecasters. The MPC also reviewed in detail the staff’s \n",
      "macroeconomic projections, and alternative scenarios around v arious risks to the \n",
      "outlook. Drawing on the above and after extensive discussions on the stance of monetary \n",
      "policy, the MPC adopted the resolution that is set out below.  \n",
      "Resolution \n",
      "5. On the basis of an assessment of the current and evolving macroeconomic\n",
      "document name is PR1769MPCF562EB05339B404F8DC23D07725EF354.pdf\n",
      "page 1\n",
      "{'source': './data/PR1769MPCF562EB05339B404F8DC23D07725EF354.pdf', 'page': 1, 'month_year': 'February-2023', 'file_name': 'PR1769MPCF562EB05339B404F8DC23D07725EF354.pdf'}\n"
     ]
    }
   ],
   "source": [
    "print(unique_splits[0].page_content)\n",
    "print(unique_splits[0].metadata)"
   ]
  },
  {
   "cell_type": "markdown",
   "id": "aa8f4a2a-5ccf-4ac4-a7fb-5aebc888e5cb",
   "metadata": {},
   "source": [
    "#### 6) Storing the Chunks into Vector Database"
   ]
  },
  {
   "cell_type": "markdown",
   "id": "56c2bd81-4d7e-4c8a-b66b-a6c70a9e94ac",
   "metadata": {},
   "source": [
    "- I am using Chroma Vector Database to store the chunk embeddings. Chroma is opensource and easy to use and we can also store the vectors locally in memory\n",
    "- You can read more about Chroma Vector Database here : https://python.langchain.com/docs/integrations/vectorstores/chroma/"
   ]
  },
  {
   "cell_type": "code",
   "execution_count": 22,
   "id": "b9e96338-7ec9-41d1-8a1b-891873a9d980",
   "metadata": {
    "tags": []
   },
   "outputs": [],
   "source": [
    "persist_directory = 'chroma_db/'\n",
    "\n",
    "### If creating vector store for the first time use this else load directly from vectorstore stored locally\n",
    "### Create the vector store\n",
    "\n",
    "vectordb = Chroma.from_documents(\n",
    "    documents=unique_splits,\n",
    "    ids = unique_ids,\n",
    "    embedding=embeddings,\n",
    "    persist_directory=persist_directory\n",
    ")\n",
    "\n",
    "### if the vectorstore is already created and stored locally, use this command to load it insted of creating the embeddings again\n",
    "\n",
    "# vectordb =  Chroma(persist_directory=persist_directory, embedding_function=embeddings)\n"
   ]
  },
  {
   "cell_type": "code",
   "execution_count": 23,
   "id": "bcd44823-eb77-4552-a8e9-36699f2ce84e",
   "metadata": {},
   "outputs": [
    {
     "name": "stdout",
     "output_type": "stream",
     "text": [
      "177\n"
     ]
    }
   ],
   "source": [
    "print(vectordb._collection.count())"
   ]
  },
  {
   "cell_type": "markdown",
   "id": "4d0bb680-bcfa-4f6a-a4ca-ca790e3e1f61",
   "metadata": {},
   "source": [
    "#### 7) Creating Custom Prompts for different tasks"
   ]
  },
  {
   "cell_type": "code",
   "execution_count": 24,
   "id": "8e93bb7d-d06b-41a8-b8f5-a2a05b5ee60c",
   "metadata": {},
   "outputs": [],
   "source": [
    "### This is the prompt to extract the month-year from the date or time period mentioned in the user question\n",
    "### The reason to create this again is that there can be multiple dates/time-periods mentioned by the user in the query whereas in one document we will have only one date\n",
    "\n",
    "ques_date_extraction_prompt_template = \"\"\"\n",
    "                     You have to extract the month and year from the date mentioned in the context. Output the result as a list containing month and year in this format : month-year\n",
    "                     e.g. : if date mentioned is 22/11/2022 then output should be ['November-2022']\n",
    "                     if date mentioned is 15th May 2020, then output should be ['May-2020'].\n",
    "                     if there are multiple dates mentioned then output all of them.\n",
    "                     Output None if you cannot any date mentioned in the question.\n",
    "                     ```\\n\n",
    "                     {context}\n",
    "                     \\n```\n",
    "                     \"\"\"\n",
    "\n",
    "ques_date_extraction_prompt = PromptTemplate(template=ques_date_extraction_prompt_template,input_variables = [\"context\"])"
   ]
  },
  {
   "cell_type": "code",
   "execution_count": 25,
   "id": "588ce334-5368-4d3a-af46-1b44bfe76c9f",
   "metadata": {},
   "outputs": [],
   "source": [
    "### This is the prompt to rephrase the question using the previous chat history and new question asked by the user\n",
    "### The purpose to rephrase the question is to get the context of the previous conversation/chat in the current question\n",
    "\n",
    "contextualize_q_template = \"\"\"Given the following conversation, chat history and a follow up question, rephrase the follow up question to be a standalone question, in its original language with clear and concise meaning and intent. \\n\n",
    "Maintain the context of the previous conversation in the final standalone question.\n",
    "\n",
    "Chat history:\n",
    "{chat_history}\n",
    "\n",
    "Followup question:\n",
    "{question}\n",
    "\n",
    "Standalone question:\n",
    "\"\"\"\n",
    "contextualize_q_prompt = PromptTemplate(input_variables=['chat_history','question'],template = contextualize_q_template)"
   ]
  },
  {
   "cell_type": "code",
   "execution_count": 26,
   "id": "1e8aaf73-5e05-45fc-9303-c23a1a64e977",
   "metadata": {},
   "outputs": [],
   "source": [
    "### This is the prompt for getting the final output from the retrieved chunks which are passed as context\n",
    "### This prompt will be used for the final rag chain\n",
    "\n",
    "qa_prompt_template = \"\"\"You are an assistant for question-answering tasks. \\\n",
    "We have provided context information below in between triple backticks. \\\n",
    "Given this information and ONLY this information, please answer this question: {question}\n",
    "\n",
    "```\n",
    "{context}\n",
    "```\n",
    "If you don't know the answer, just say that you don't know, don't try to make up an answer. \\\n",
    "Please also tell me in what pdf is that information, the page and the section so that I can easily find it whenever it applies.\n",
    "\"\"\"\n",
    "\n",
    "qa_prompt = PromptTemplate.from_template(qa_prompt_template)\n"
   ]
  },
  {
   "cell_type": "code",
   "execution_count": 27,
   "id": "45b6547c-fce6-4b9e-9883-ef8b5204f7a0",
   "metadata": {},
   "outputs": [],
   "source": [
    "prompt_list = [qa_prompt,contextualize_q_prompt,ques_date_extraction_prompt]"
   ]
  },
  {
   "cell_type": "markdown",
   "id": "615a5c5b-5c2c-423b-aa52-75e2a0236df3",
   "metadata": {},
   "source": [
    "#### 8) Creating Chatbot Class by combining all the components"
   ]
  },
  {
   "cell_type": "code",
   "execution_count": 40,
   "id": "def28e5e-15b9-449c-923f-6a7f3a3b4a89",
   "metadata": {},
   "outputs": [],
   "source": [
    "class Chatbot:\n",
    "    \"\"\"\n",
    "    This class represents a Chatbot that can query documents and interact with users.\n",
    "\n",
    "    Attributes:\n",
    "    vectordb (object): An instance of the VectorDB database.\n",
    "    qa_prompt (str): The prompt used for the QA chain.\n",
    "    contextualize_q_prompt (str): The prompt used for the question rephraser chain.\n",
    "    ques_date_extractor_prompt (str): The prompt used for the question date extractor chain.\n",
    "    chat_history (list): A list to store the history of the chat.\n",
    "    welcome_message (str): The welcome message of the chatbot.\n",
    "\n",
    "    Methods:\n",
    "    get_llm(model): Returns a language model based on the model name.\n",
    "    create_ques_date_extractor_chain(llm): Creates a question date extractor chain.\n",
    "    create_ques_rephraser_chain(llm): Creates a question rephraser chain.\n",
    "    query_document(question): Queries a document based on the question asked by the user.\n",
    "    start_bot(): Starts the chatbot.\n",
    "    \"\"\"\n",
    "    \n",
    "    def __init__(self,prompt_list,\n",
    "                vectordb\n",
    "                ):\n",
    "        \"\"\"\n",
    "        The constructor for the Chatbot class.\n",
    "\n",
    "        Parameters:\n",
    "        prompt_list (list): A list of prompts used for different chains.\n",
    "        vectordb (object): An instance of the VectorDB database.\n",
    "        \"\"\"\n",
    "        \n",
    "        self.vectordb = vectordb\n",
    "        self.qa_prompt = prompt_list[0]\n",
    "        self.contextualize_q_prompt = prompt_list[1]\n",
    "        self.ques_date_extractor_prompt = prompt_list[2]\n",
    "        self.chat_history = []\n",
    "        self.welcome_message = \"Hi, How can i help you ?\"\n",
    "    \n",
    "    def get_llm(self,model='gpt4'):\n",
    "        \"\"\"\n",
    "        This function returns a language model based on the model name.\n",
    "        \n",
    "        Parameters:\n",
    "        model (str): The name of the model. Default is 'gpt4'.\n",
    "        \n",
    "        Returns:\n",
    "        object: An instance of the ChatOpenAI class with the specified model.\n",
    "        \"\"\"\n",
    "        if model == 'gpt35':\n",
    "            return ChatOpenAI(model_name='gpt-3.5-turbo-0125', temperature=0)\n",
    "        else:\n",
    "            return ChatOpenAI(model_name='gpt-4-0125-preview', temperature=0)\n",
    "    \n",
    "    def create_ques_date_extractor_chain(self, llm):\n",
    "        return LLMChain(llm=llm, prompt=self.ques_date_extractor_prompt)\n",
    "\n",
    "    def create_ques_rephraser_chain(self,llm):\n",
    "        return LLMChain(llm=llm, prompt=self.contextualize_q_prompt)\n",
    "\n",
    "    def query_document(self,question):\n",
    "        \"\"\"\n",
    "        This function is used to query a document based on the question asked by the user. \n",
    "    \n",
    "        Parameters:\n",
    "        question (str): The question asked by the user.\n",
    "    \n",
    "        Returns:\n",
    "        dict: The result of the query which includes the answer to the question.\n",
    "    \n",
    "        Functionality:\n",
    "        1. It first gets the language models 'gpt35' and 'gpt4'.\n",
    "        2. It then creates a question date extractor chain using 'gpt35'.\n",
    "        3. It extracts the month and year from the question.\n",
    "        4. Based on the extracted month and year, it defines metadata filters.\n",
    "        5. It defines a ChromaDB retriever with the defined metadata filters.\n",
    "        6. It creates a question rephraser chain using 'gpt4'.\n",
    "        7. It loads a QA chain with sources using 'gpt4'.\n",
    "        8. It creates a RAG chain using the retriever, question rephraser chain, and the QA chain.\n",
    "        9. It asks the question and gets the response using the RAG chain.\n",
    "        10. It adds the question and the response to the chat history.\n",
    "        11. Finally, it returns the result of the query.\n",
    "        \"\"\"\n",
    "        \n",
    "        llm_gpt35 = self.get_llm('gpt35')\n",
    "        llm_gpt4 = self.get_llm('gpt4')\n",
    "\n",
    "        ### Question Date extractor chain\n",
    "        ques_date_extractor_chain = self.create_ques_date_extractor_chain(llm_gpt35)\n",
    "\n",
    "        ### Extracting month-year from the question\n",
    "        ques_month_year = ques_date_extractor_chain.run(question)\n",
    "\n",
    "        ### Defining metadata filters based on the extracted month-year\n",
    "        if ques_month_year=='None':\n",
    "            metadata_filter = {}\n",
    "        else:\n",
    "            ques_month_year = ast.literal_eval(ques_month_year)\n",
    "            metadata_filter = {\"month_year\":{\"$in\":ques_month_year}}\n",
    "            \n",
    "        ### Defining ChromaDB retriever\n",
    "        retriever=self.vectordb.as_retriever(search_kwargs={\"filter\":metadata_filter,\"k\":6})     \n",
    "        \n",
    "        ### Question rephraser chain\n",
    "        question_rephraser_chain = self.create_ques_rephraser_chain(llm_gpt4)\n",
    "\n",
    "        ### QA chain\n",
    "        doc_chain = load_qa_with_sources_chain(llm_gpt4,prompt=self.qa_prompt,document_variable_name='context')\n",
    "\n",
    "        ### RAG chain : using the ConversationalRetrievalChain for conversational capability\n",
    "        rag_chain = ConversationalRetrievalChain(\n",
    "            retriever=retriever,\n",
    "            question_generator=question_rephraser_chain,\n",
    "            combine_docs_chain=doc_chain,\n",
    "            return_source_documents='True',\n",
    "            output_key='answer'\n",
    "        )\n",
    "\n",
    "        ### Asking the question and getting the response\n",
    "        result = rag_chain({\"question\": question, \"chat_history\": self.chat_history})\n",
    "\n",
    "        ### Adding the question and the response in the chat history\n",
    "        self.chat_history.append((question, result[\"answer\"]))\n",
    "        \n",
    "        return result\n",
    "        \n",
    "    def detect_exit(self, message):\n",
    "        \"\"\"\n",
    "        This function checks if the user's message contains any exit indicators.\n",
    "    \n",
    "        Parameters:\n",
    "        message (str): The message from the user.\n",
    "    \n",
    "        Returns:\n",
    "        bool: True if an exit indicator is found in the message, False otherwise.\n",
    "    \n",
    "        Functionality:\n",
    "        It checks if the user's message contains any of the predefined exit indicators (\"thank\", \"nice\"). If an exit indicator is found, it returns True, indicating that the user may want to end the conversation. Otherwise, it returns False.\n",
    "        \"\"\"\n",
    "        \n",
    "        exit_indicators = [\"thank\", \"nice\"]\n",
    "        for indicator in exit_indicators:\n",
    "            if (indicator.lower() in message.lower()):\n",
    "                return True\n",
    "        return False\n",
    "        \n",
    "    def start_bot(self):\n",
    "        \"\"\"\n",
    "        This function is used to start the chatbot. \n",
    "    \n",
    "        Functionality:\n",
    "        1. It first prints the welcome message and initializes the chat history.\n",
    "        2. It then enters a loop where it continuously waits for user input.\n",
    "        3. When a user question is received, it queries the document using the question.\n",
    "        4. It then prints the bot's response to the question.\n",
    "        5. This process continues until the program is manually stopped.\n",
    "    \n",
    "        Note: \n",
    "        This function does not take any parameters and does not return anything. It's an infinite loop that keeps the chatbot running and responding to user queries.\n",
    "        \"\"\"\n",
    "        \n",
    "        print(self.welcome_message + \"\\n\\n\")\n",
    "        \n",
    "        self.chat_history = []\n",
    "        \n",
    "        while True: \n",
    "\n",
    "            user_question = input(\"*** User Question *** : \")\n",
    "            \n",
    "            if self.detect_exit(user_question):\n",
    "                break\n",
    "                \n",
    "            bot_response = self.query_document(user_question)\n",
    "            \n",
    "            print(\"*** Bot Response *** : \", bot_response['answer'], \"\\n \")\n",
    "           "
   ]
  },
  {
   "cell_type": "markdown",
   "id": "a89ec4c2-56e6-42cd-bb9c-2c6fb8ed65b5",
   "metadata": {},
   "source": [
    "#### 9) Let's do some Question Answering"
   ]
  },
  {
   "cell_type": "code",
   "execution_count": 48,
   "id": "900688dd-22d8-46d1-8d09-1ce48d42f09c",
   "metadata": {},
   "outputs": [],
   "source": [
    "### Initialize the Chatbot\n",
    "\n",
    "chatbot = Chatbot(prompt_list,vectordb)"
   ]
  },
  {
   "cell_type": "markdown",
   "id": "8d1a04cd-fa63-4b71-a9b1-198cd76f2891",
   "metadata": {},
   "source": [
    "##### We can start the chatbot using chatbot.start_bot() and it will start a continuous question answer bot through a continuous running cell, in order to stop it you need to type Thank you or nice"
   ]
  },
  {
   "cell_type": "code",
   "execution_count": 49,
   "id": "cefe33ff-1865-4f74-b793-7305bd52d2e1",
   "metadata": {},
   "outputs": [
    {
     "name": "stdout",
     "output_type": "stream",
     "text": [
      "Hi, How can i help you ?\n",
      "\n",
      "\n"
     ]
    },
    {
     "name": "stdin",
     "output_type": "stream",
     "text": [
      "*** User Question *** :  What are the type of documents in the database ?\n"
     ]
    },
    {
     "name": "stdout",
     "output_type": "stream",
     "text": [
      "*** Bot Response *** :  The types of documents in the database are:\n",
      "\n",
      "1. Press Releases from the Reserve Bank of India, detailing various financial and economic measures, updates, and results of auctions. Examples include announcements regarding the withdrawal of legal tender status for certain banknotes, results of State Development Loans auctions, and Treasury Bills auction results.\n",
      "\n",
      "2. Minutes of the Monetary Policy Committee meetings, providing insights into economic assessments, inflation projections, growth forecasts, and policy decisions.\n",
      "\n",
      "For instance:\n",
      "- The document named \"PR1190C026F89B382C47ABBC3D2E4B1A6E0DA1.pdf\" is a press release about the withdrawal of legal tender character of `500 and `1,000 banknotes. (Source: ./data/PR1190C026F89B382C47ABBC3D2E4B1A6E0DA1.pdf, page 1)\n",
      "  \n",
      "- The document named \"PR1916MINUTESMPCEC644F0858CB44DA8948B3C027C81C5D.pdf\" contains minutes from a Monetary Policy Committee meeting discussing economic conditions and policy decisions. (Source: ./data/PR1916MINUTESMPCEC644F0858CB44DA8948B3C027C81C5D.pdf, page 10)\n",
      "\n",
      "- The document named \"PR1358EB308DAB38B24F4EB2725FD44EA7237B.pdf\" is a press release about the results of auctions of 10 years State Development Loans for two state governments. (Source: ./data/PR1358EB308DAB38B24F4EB2725FD44EA7237B.pdf, page 1)\n",
      "\n",
      "- The document named \"PR136980056AFD85C8475286C0BD6B6F02F48C (1).pdf\" is a press release regarding the full auction result of 91-Days Treasury Bills. (Source: ./data/PR136980056AFD85C8475286C0BD6B6F02F48C (1).pdf, page 1)\n",
      "\n",
      "- The document named \"PR1531MPC028F84F6CF55474FAD12AF5AB0271F8C.pdf\" includes minutes from a Monetary Policy Committee meeting, discussing economic outlook, inflation, and growth projections. (Source: ./data/PR1531MPC028F84F6CF55474FAD12AF5AB0271F8C.pdf, pages 5 and 7) \n",
      " \n"
     ]
    },
    {
     "name": "stdin",
     "output_type": "stream",
     "text": [
      "*** User Question *** :  On which bank did RBI implied monetary penalty?\n"
     ]
    },
    {
     "name": "stdout",
     "output_type": "stream",
     "text": [
      "*** Bot Response *** :  The Reserve Bank of India imposed a monetary penalty on The Adinath Co-Operative Bank Limited, Dist. Surat, Gujarat. This information is found in the document named PR1914ADINATH25D3CEFC29704A9289D6D7BDA04708E5.pdf, on page 1. \n",
      " \n"
     ]
    },
    {
     "name": "stdin",
     "output_type": "stream",
     "text": [
      "*** User Question *** :  what was the reason for it ?\n"
     ]
    },
    {
     "name": "stdout",
     "output_type": "stream",
     "text": [
      "*** Bot Response *** :  The Reserve Bank of India imposed a monetary penalty on The Adinath Co-Operative Bank Limited, Dist. Surat, Gujarat, for non-compliance with the directions issued by RBI on ‘Placement of Deposits with Other Banks by Primary (Urban) Co-operative Banks (UCBs)’. The penalty amounted to ₹1.50 lakh (Rupees One lakh and Fifty thousand only). This action was taken based on deficiencies in regulatory compliance and was not intended to pronounce upon the validity of any transaction or agreement entered into by the bank with its customers. The statutory inspection of the bank, with reference to its financial position as on March 31, 2023, revealed that the bank had breached the prescribed inter-bank gross exposure limit as well as the prudential inter-bank counterparty exposure limit.\n",
      "\n",
      "This information can be found in the document named PR1914ADINATH25D3CEFC29704A9289D6D7BDA04708E5.pdf, on page 1. \n",
      " \n"
     ]
    },
    {
     "name": "stdin",
     "output_type": "stream",
     "text": [
      "*** User Question *** :  when was this penalty imposed ?\n"
     ]
    },
    {
     "name": "stdout",
     "output_type": "stream",
     "text": [
      "*** Bot Response *** :  The Reserve Bank of India imposed a monetary penalty on The Adinath Co-Operative Bank Limited, Dist. Surat, Gujarat, on February 13, 2024, for non-compliance with RBI directions on ‘Placement of Deposits with Other Banks by Primary (Urban) Co-operative Banks (UCBs)’. This information can be found in the document named PR1914ADINATH25D3CEFC29704A9289D6D7BDA04708E5.pdf, on page 1. \n",
      " \n"
     ]
    },
    {
     "name": "stdin",
     "output_type": "stream",
     "text": [
      "*** User Question *** :  Summarize the Monetary Policy meeting which happened in December 2023\n"
     ]
    },
    {
     "name": "stdout",
     "output_type": "stream",
     "text": [
      "*** Bot Response *** :  The December 2023 Monetary Policy Committee (MPC) meeting, as documented in the database, concluded with the decision to keep the policy repo rate unchanged at 6.50%. This decision was unanimous among all MPC members. The committee also decided to remain focused on the withdrawal of accommodation to ensure that inflation progressively aligns with the target while supporting growth. The standing deposit facility (SDF) rate and the marginal standing facility (MSF) rate, along with the Bank Rate, were also kept unchanged at 6.25% and 6.75% respectively. The MPC's decisions were aimed at achieving the medium-term target for consumer price index (CPI) inflation of 4% within a band of +/- 2%, while also supporting economic growth.\n",
      "\n",
      "The MPC reviewed various economic indicators, including consumer confidence, inflation expectations, corporate sector performance, and macroeconomic projections. It noted the impact of recurring food price shocks on the disinflation process and the volatility of headline inflation, which poses risks to inflation expectations. Despite these challenges, the committee observed improvements in investment demand and business and consumer optimism, which support domestic economic activity.\n",
      "\n",
      "All members voted to keep the policy repo rate unchanged, with Prof. Jayanth R. Varma expressing reservations about the focus on withdrawal of accommodation. The next meeting of the MPC is scheduled for February 6-8, 2024.\n",
      "\n",
      "This summary is based on information from the document named PR1531MPC028F84F6CF55474FAD12AF5AB0271F8C.pdf, with relevant details found across multiple pages and sections, including the resolution on page 1, assessment and outlook on page 2, and individual statements from MPC members on pages 3, 4, 9, and 11. \n",
      " \n"
     ]
    },
    {
     "name": "stdin",
     "output_type": "stream",
     "text": [
      "*** User Question *** :  \"Compare the assessment of Global and Domestic Economy in the meetings held in feb 2023 and feb 2024 \"\n"
     ]
    },
    {
     "name": "stdout",
     "output_type": "stream",
     "text": [
      "*** Bot Response *** :  Between the meetings held in February 2023 and February 2024, the Monetary Policy Committee's assessment of the Global and Domestic Economy showed some differences in outlook and emphasis:\n",
      "\n",
      "**February 2023:**\n",
      "- **Global Economy:** There was an improvement in the global growth outlook despite ongoing geopolitical tensions and the impact of monetary policy tightening across the world. Global growth was expected to decelerate in 2023, with inflation showing some softening from elevated levels. Central banks were expected to continue their efforts to bring inflation closer to their targets, amidst volatile bond yields and financial markets.\n",
      "- **Domestic Economy:** India's GDP growth for 2022-23 was placed at 7.0% year-on-year, driven by private consumption and investment. Economic activity remained strong in the third and fourth quarters of 2022-23, with high-frequency indicators suggesting robust performance. The supply side saw a GVA estimate of 6.7%.\n",
      "\n",
      "**February 2024:**\n",
      "- **Global Economy:** Global growth was expected to remain steady in 2024 after a resilient performance in the previous year. Inflation was edging down from multi-decade highs, with financial market sentiments fluctuating due to changing views on central banks' policies in advanced economies. Emerging market economies faced currency fluctuations amidst volatile capital flows.\n",
      "- **Domestic Economy:** The domestic economic activity was strengthening, with real GDP expected to grow by 7.3% year-on-year in 2023-24, underpinned by strong investment activity. The supply side saw a GVA expansion of 6.9% in 2023-24, with manufacturing and services sectors being key drivers. The outlook for 2024-25 was positive, supported by recovery in rabi sowing, sustained profitability in manufacturing, and resilience of services.\n",
      "\n",
      "**Comparison:**\n",
      "- The global economic outlook was cautiously optimistic in both years, with concerns about geopolitical tensions, monetary policy impacts, and inflation. However, the tone in 2024 suggests a steadier global growth expectation and a more pronounced focus on the moderation of inflation.\n",
      "- Domestically, the emphasis shifted from strong economic activity and the role of private consumption and investment in 2023 to a more detailed outlook on growth drivers for 2024, including investment activity, manufacturing, and services sectors' performance. The growth forecast for 2023-24 was slightly higher than the previous year, indicating an improvement in economic conditions.\n",
      "\n",
      "This information is found in the documents titled \"PR1769MPCF562EB05339B404F8DC23D07725EF354.pdf\" for the February 2023 meeting (page 2 for the assessment) and \"PR1916MINUTESMPCEC644F0858CB44DA8948B3C027C81C5D.pdf\" for the February 2024 meeting (page 2 for the assessment and outlook). \n",
      " \n"
     ]
    },
    {
     "name": "stdin",
     "output_type": "stream",
     "text": [
      "*** User Question *** :  Tell me information about April 2024 meeting ?\n"
     ]
    },
    {
     "name": "stdout",
     "output_type": "stream",
     "text": [
      "*** Bot Response *** :  I don't know the answer to your question about the details of the Monetary Policy Committee meeting that took place in April 2024, as no context information has been provided. \n",
      " \n"
     ]
    },
    {
     "name": "stdin",
     "output_type": "stream",
     "text": [
      "*** User Question *** :  what about april 2023 ?\n"
     ]
    },
    {
     "name": "stdout",
     "output_type": "stream",
     "text": [
      "*** Bot Response *** :  The Monetary Policy Committee (MPC) meeting that occurred in April 2023 decided to keep the policy repo rate unchanged at 6.50 percent. This decision was unanimously voted for by all members of the MPC, which included Dr. Shashanka Bhide, Dr. Ashima Goyal, Prof. Jayanth R. Varma, Dr. Rajiv Ranjan, Dr. Michael Debabrata Patra, and Shri Shaktikanta Das. The committee also decided to remain focused on the withdrawal of accommodation to ensure that inflation progressively aligns with the target while supporting growth. Prof. Jayanth R. Varma expressed reservations on this part of the resolution.\n",
      "\n",
      "This information can be found in the document named \"PR88MINUTESOFMPC507ABE3E36B346B6A843FCDCCD9F6207.pdf\" on page 4, sections 14 to 16. \n",
      " \n"
     ]
    },
    {
     "name": "stdin",
     "output_type": "stream",
     "text": [
      "*** User Question *** :   summarize this meeting for me\n"
     ]
    },
    {
     "name": "stdout",
     "output_type": "stream",
     "text": [
      "*** Bot Response *** :  The key decisions and points from the April 2023 Monetary Policy Committee (MPC) meeting are as follows:\n",
      "\n",
      "1. **Policy Rates Unchanged**: The MPC decided to keep the policy repo rate unchanged at 6.50 percent. Similarly, the standing deposit facility (SDF) rate remains at 6.25 percent, and the marginal standing facility (MSF) rate and the Bank Rate at 6.75 percent.\n",
      "\n",
      "2. **Focus on Inflation and Growth**: The committee resolved to remain focused on the withdrawal of accommodation to ensure that inflation progressively aligns with the target while supporting growth. This decision aligns with the objective of achieving the medium-term target for consumer price index (CPI) inflation of 4 percent within a band of +/- 2 percent, also while supporting growth.\n",
      "\n",
      "3. **Unanimous Voting**: All members of the MPC unanimously voted to keep the policy repo rate unchanged at 6.50 percent. However, Prof. Jayanth R. Varma expressed reservations about the part of the resolution focusing on the withdrawal of accommodation.\n",
      "\n",
      "4. **Inflation and Economic Activity**: The MPC noted the moderation in CPI headline inflation into the tolerance band, reflecting the impact of monetary tightening and supply-augmenting measures. Despite a projected decline in headline inflation for 2023-24 from its level in 2022-23, it would still be above the target, necessitating continuous vigilance. The progress of the south-west monsoon was highlighted as critical in this regard.\n",
      "\n",
      "5. **Economic Resilience and Outlook**: Domestic economic activity is holding up well, with improving consumer confidence and optimistic business outlooks. The cumulative rate hike of 250 basis points undertaken by the MPC since May 2022 is transmitting through the economy, expected to contain inflationary pressures in the coming months.\n",
      "\n",
      "6. **Future Actions**: The MPC resolved to continue keeping a close vigil on the evolving inflation and growth outlook, ready to take further monetary actions promptly and appropriately as required to keep inflation expectations firmly anchored and to bring down inflation to the target.\n",
      "\n",
      "This summary is based on the information provided in the document named \"PR88MINUTESOFMPC507ABE3E36B346B6A843FCDCCD9F6207.pdf\", specifically found on page 4, under the sections detailing the MPC's decisions and assessments. \n",
      " \n"
     ]
    },
    {
     "name": "stdin",
     "output_type": "stream",
     "text": [
      "*** User Question *** :  Thank you\n"
     ]
    }
   ],
   "source": [
    "chatbot.start_bot()"
   ]
  }
 ],
 "metadata": {
  "kernelspec": {
   "display_name": "Python 3 (ipykernel)",
   "language": "python",
   "name": "python3"
  },
  "language_info": {
   "codemirror_mode": {
    "name": "ipython",
    "version": 3
   },
   "file_extension": ".py",
   "mimetype": "text/x-python",
   "name": "python",
   "nbconvert_exporter": "python",
   "pygments_lexer": "ipython3",
   "version": "3.12.2"
  }
 },
 "nbformat": 4,
 "nbformat_minor": 5
}
